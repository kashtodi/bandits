{
 "cells": [
  {
   "cell_type": "markdown",
   "metadata": {},
   "source": [
    "# ELEC-E7851 Computational User Interface Design\n",
    "\n",
    "# Bandits (07.12.2018)\n",
    "### Kashyap Todi (www.kashyaptodi.com)"
   ]
  },
  {
   "cell_type": "code",
   "execution_count": 1,
   "metadata": {},
   "outputs": [],
   "source": [
    "import time\n",
    "import random\n",
    "import numpy as np\n",
    "import scipy.stats\n",
    "import matplotlib.pyplot as plt"
   ]
  },
  {
   "cell_type": "markdown",
   "metadata": {},
   "source": [
    "## Defining a Bandit\n",
    "\n",
    "We start by defining a Bandit.\n",
    "\n",
    "A bandit has $n$ arms.<br/>\n",
    "Each arm has a reward probability $\\theta$.<br/>\n",
    "When we pull an arm $i$, the bandit returns a reward with corresponding probability $i_\\theta$."
   ]
  },
  {
   "cell_type": "code",
   "execution_count": 2,
   "metadata": {},
   "outputs": [],
   "source": [
    "class Bandit(object):\n",
    "    def __init__(self,n,thetas):\n",
    "        assert len(thetas) == n\n",
    "        self.n = n\n",
    "        self.thetas = thetas\n",
    "        self.best_theta = max(self.thetas)\n",
    "\n",
    "    def pull_arm(self, i):\n",
    "        # Pull i-th arm and return reward\n",
    "        if np.random.random() < self.thetas[i]:\n",
    "            return 1\n",
    "        else:\n",
    "            return 0\n"
   ]
  },
  {
   "cell_type": "markdown",
   "metadata": {},
   "source": [
    "Let's create two Bandit instances."
   ]
  },
  {
   "cell_type": "code",
   "execution_count": 3,
   "metadata": {},
   "outputs": [],
   "source": [
    "thetas1 = [0.15,0.30,0.60]\n",
    "bandit1 = Bandit(len(thetas1),thetas1) #Define a 3-armed bandit\n",
    "\n",
    "thetas2 = [0.15,0.30,0.60,0.4,0.3,0.2,0.1,0.5,0.25]\n",
    "bandit2 = Bandit(len(thetas2),thetas2) #Define a 9-armed bandit"
   ]
  },
  {
   "cell_type": "markdown",
   "metadata": {},
   "source": [
    "## Defining a Generic Solver\n",
    "\n",
    "A generic Bandit solver consists of:\n",
    "1. bandit: A Bandit object\n",
    "2. counts: Number of times each arm has been pulled\n",
    "3. actions: A History of actions taken (arms pulled)\n",
    "4. regret: Cumulative regret until current time step\n",
    "5. regrets: A history of cumulative regrets\n",
    "\n",
    "A solver must specify the steps taken during a single time step (`run_one_step`)\n",
    "\n",
    "A solver can be run $num\\ steps$ times, to calculate the cumulative regret and optionally the estimated $\\theta$s.\n",
    "\n"
   ]
  },
  {
   "cell_type": "code",
   "execution_count": 4,
   "metadata": {},
   "outputs": [],
   "source": [
    "class Solver(object):\n",
    "    def __init__(self, bandit):\n",
    "        \"\"\"\n",
    "        bandit (Bandit): the target bandit to solve\n",
    "        \"\"\"\n",
    "        assert isinstance (bandit, Bandit)\n",
    "        np.random.seed(int(time.time()))\n",
    "        \n",
    "        self.bandit = bandit\n",
    "        \n",
    "        self.counts = [0] * self.bandit.n\n",
    "        self.actions = [] # History of actions (list of arms pulled)\n",
    "        self.regret = 0. # Cumulative regret\n",
    "        self.regrets = [0.] #History of cumulative regrets\n",
    "        \n",
    "    def update_regret(self, i):\n",
    "        # i: index of selected arm\n",
    "        self.regret += self.bandit.best_theta - self.bandit.thetas[i]\n",
    "        self.regrets.append(self.regret)\n",
    "        \n",
    "    @property\n",
    "    def estimated_thetas(self):\n",
    "        raise NotImplementedError\n",
    "        \n",
    "    def run_one_step(self):\n",
    "        \"\"\"Return the arm index to take action on.\"\"\"\n",
    "        raise NotImplementedError\n",
    "        \n",
    "    def run(self, num_steps):\n",
    "        assert self.bandit is not None\n",
    "        for _ in range(num_steps):\n",
    "            i = self.run_one_step()\n",
    "            \n",
    "            self.counts[i] += 1\n",
    "            self.actions.append(i)\n",
    "            self.update_regret(i)\n",
    "            \n",
    "        "
   ]
  },
  {
   "cell_type": "markdown",
   "metadata": {},
   "source": [
    "## Defining an Experiment\n",
    "Let us now define an experiment to run the solver for n trials with m iterations each trial."
   ]
  },
  {
   "cell_type": "code",
   "execution_count": 5,
   "metadata": {},
   "outputs": [],
   "source": [
    "def run_solver (solver, trials = 20, iterations = 1000):\n",
    "    regret_history = []\n",
    "    for trial in range(trials):\n",
    "        solver.regret = 0\n",
    "        solver.regrets = []\n",
    "        solver.run(iterations)\n",
    "        regret_history.append(solver.regret)\n",
    "    print(solver.name, np.mean(regret_history), \"+/-\",np.std(regret_history))"
   ]
  },
  {
   "cell_type": "markdown",
   "metadata": {},
   "source": [
    "## Implement Solvers\n",
    "\n",
    "### 1. Explore-Only:\n",
    "First, let's write a random solver, that randomly explores at every iteration:"
   ]
  },
  {
   "cell_type": "code",
   "execution_count": 6,
   "metadata": {},
   "outputs": [],
   "source": [
    "class Random(Solver):\n",
    "    def __init__(self, bandit):\n",
    "        super(Random, self).__init__(bandit)\n",
    "        self.name = \"Random\"\n",
    "            \n",
    "    def run_one_step(self):\n",
    "            i = np.random.randint(0, self.bandit.n) #Pick a random arm\n",
    "            reward = self.bandit.pull_arm(i) #Pull arm i and get reward\n",
    "            return i"
   ]
  },
  {
   "cell_type": "markdown",
   "metadata": {},
   "source": [
    "### 2. Exploit-Only:\n",
    "Next, let's write a Greedy solver, that exploits a pre-determined arm at every iteration:"
   ]
  },
  {
   "cell_type": "code",
   "execution_count": 7,
   "metadata": {},
   "outputs": [],
   "source": [
    "class Greedy(Solver):\n",
    "    def __init__(self, bandit, arm):\n",
    "        super(Greedy, self).__init__(bandit)\n",
    "        self.arm = arm # Chosen arm (\"best-known\")\n",
    "        self.name = \"Greedy\"\n",
    "    \n",
    "    \n",
    "    def run_one_step(self):\n",
    "        reward = self.bandit.pull_arm(self.arm) #Pull arm i and get reward\n",
    "        return self.arm"
   ]
  },
  {
   "cell_type": "markdown",
   "metadata": {},
   "source": [
    " ### 3. $\\epsilon$-Greedy:\n",
    " \n",
    "We can explore random arms with a fixed probability ($\\epsilon$), while exploiting the best found arm otherwise.\n",
    " \n",
    "After each time step, we obtain reward r for pulling arm i.<br/>\n",
    "We update the estimated theta for arm i based on the outcome."
   ]
  },
  {
   "cell_type": "code",
   "execution_count": 8,
   "metadata": {},
   "outputs": [],
   "source": [
    "class EpsilonGreedy(Solver):\n",
    "    def __init__(self, bandit, epsilon, init_theta=1.0):\n",
    "        \"\"\"\n",
    "        epsilon (float): the probability to explore\n",
    "        init_theta (float): We optimistically set initial theta to be 1.0\n",
    "        \"\"\"\n",
    "        super(EpsilonGreedy, self).__init__(bandit)\n",
    "        assert 0. <= epsilon <= 1.0\n",
    "        self.epsilon = epsilon\n",
    "        self.estimates = [init_theta]*self.bandit.n #Optimisistic initialisation\n",
    "        self.name = \"Epsilon-Greedy\"\n",
    "    @property\n",
    "    def estimated_thetas(self):\n",
    "        return self.estimates\n",
    "    \n",
    "    def run_one_step(self):\n",
    "        if np.random.random() < self.epsilon:\n",
    "            #We are going to explore\n",
    "            i = np.random.randint(0, self.bandit.n) #Pick a random arm\n",
    "        else:\n",
    "            #We are going to exploit\n",
    "            i = max(range(self.bandit.n), key=lambda x: self.estimates[x])\n",
    "\n",
    "        reward = self.bandit.pull_arm(i) #Pull arm i and get reward\n",
    "        self.estimates[i] += 1. / (self.counts[i]+1) * (reward - self.estimates[i]) #Update estimate for arm i\n",
    "        return i"
   ]
  },
  {
   "cell_type": "markdown",
   "metadata": {},
   "source": [
    " ### 4. UCB1:\n",
    " \n",
    "The Upper Confident Bound solver prefers arms with stronger potential for optimal value.\n",
    "\n",
    "At each step, we pick the best arm $i$ to maximise the upper confidence bound\n",
    "\n",
    "$a_t^{UCB}= argmax_{a\\in A} \\hat{Q_t}(a) + \\hat{U_t}(a)$<br><br>\n",
    "$\\hat{U_t}(a) = \\sqrt{\\dfrac{2 \\log t}{2N_t(a)}}$"
   ]
  },
  {
   "cell_type": "code",
   "execution_count": 9,
   "metadata": {},
   "outputs": [],
   "source": [
    "class UCB1(Solver): #Upper-confidence bound\n",
    "    \n",
    "    def __init__(self, bandit, init_theta=1.0):\n",
    "        \"\"\"\n",
    "        init_theta (float): We optimistically set initial theta to be 1.0\n",
    "        \"\"\"\n",
    "        super(UCB1, self).__init__(bandit)\n",
    "        self.t = 0\n",
    "        self.estimates = [init_theta]*self.bandit.n #Optimisistic initialisation\n",
    "        self.name = \"UCB1\"\n",
    "        \n",
    "    @property\n",
    "    def estimated_thetas(self):\n",
    "        return self.estimates\n",
    "    \n",
    "    def run_one_step(self):\n",
    "        self.t += 1\n",
    "        \n",
    "        # Pick best one with consideration of upper confidence bounds\n",
    "        i = max(range(self.bandit.n), key=lambda\n",
    "                x: self.estimates[x] + np.sqrt(2*np.log(self.t)/(1+self.counts[x])))\n",
    "        reward = self.bandit.pull_arm(i)\n",
    "        \n",
    "        self.estimates[i] += 1. / (self.counts[i]+1) * (reward - self.estimates[i]) #Update estimate for arm i\n",
    "\n",
    "        return i"
   ]
  },
  {
   "cell_type": "markdown",
   "metadata": {},
   "source": [
    " ### 5. Thompson Sampling:\n",
    " \n",
    "The Thompson Sampling solver implements probability matching.\n",
    "\n",
    "For Bernoulli bandit, Q(a) follows a Beta distribution\n",
    "\n",
    "By default, $\\alpha$ and $\\beta$ are set to 1 (50% reward probability).<br>\n",
    "We can set initial $\\alpha$ and $\\beta$ based on our prior knowledge of reward probability.<br>\n",
    "\n",
    "After pulling an arm i, the $\\alpha$ and $\\beta$ for i is updated.\n"
   ]
  },
  {
   "cell_type": "code",
   "execution_count": 10,
   "metadata": {},
   "outputs": [],
   "source": [
    "class ThompsonSampling(Solver):\n",
    "    def __init__(self, bandit, init_alpha=1, init_beta=1):\n",
    "        \"\"\"\n",
    "        init_a (int): initial value of a in Beta(a, b).\n",
    "        init_b (int): initial value of b in Beta(a, b).\n",
    "        \"\"\"\n",
    "        super(ThompsonSampling, self).__init__(bandit)\n",
    "\n",
    "        self._alphas = [init_alpha] * self.bandit.n\n",
    "        self._betas = [init_beta] * self.bandit.n\n",
    "        self.name = \"Thompson Sampling\"\n",
    "\n",
    "    @property\n",
    "    def estimated_probas(self):\n",
    "        return [self._alphas[i] / (self._alphas[i] + self._betas[i]) for i in range(self.bandit.n)]\n",
    "\n",
    "    def run_one_step(self):\n",
    "        samples = [np.random.beta(self._alphas[x], self._betas[x]) for x in range(self.bandit.n)]\n",
    "        i = max(range(self.bandit.n), key=lambda x: samples[x])\n",
    "        reward = self.bandit.pull_arm(i)\n",
    "\n",
    "        self._alphas[i] += reward\n",
    "        self._betas[i] += (1 - reward)\n",
    "\n",
    "        return i"
   ]
  },
  {
   "cell_type": "markdown",
   "metadata": {},
   "source": [
    "## Test the solvers"
   ]
  },
  {
   "cell_type": "markdown",
   "metadata": {},
   "source": [
    "We now test the solvers by running the experiment and printing the mean cumulative regret and standard deviation."
   ]
  },
  {
   "cell_type": "code",
   "execution_count": 11,
   "metadata": {},
   "outputs": [
    {
     "name": "stdout",
     "output_type": "stream",
     "text": [
      "Random 248.175 +/- 6.776365176110286\n",
      "Actions per arm:  [328.4, 334.65, 336.95] \n",
      "\n",
      "Greedy 300.00000000000557 +/- 5.684341886080802e-14\n",
      "Actions per arm:  [0.0, 1000.0, 0.0] \n",
      "\n",
      "Epsilon-Greedy 30.832499999999982 +/- 28.35696243870271\n",
      "Actions per arm:  [32.75, 53.65, 913.6] \n",
      "\n",
      "UCB1 4.829999999999998 +/- 8.387347614114958\n",
      "Actions per arm:  [3.4, 11.0, 985.6] \n",
      "\n",
      "Thompson Sampling 0.7275 +/- 2.4794392007064823\n",
      "Actions per arm:  [1.15, 0.7, 998.15] \n",
      "\n"
     ]
    }
   ],
   "source": [
    "# Select one of the bandit instances\n",
    "bandit = bandit1\n",
    "\n",
    "# Instantiate solvers \n",
    "random = Random(bandit)\n",
    "greedy = Greedy(bandit,1)\n",
    "e_greedy = EpsilonGreedy(bandit,0.1) #Set epsilon = 0.1\n",
    "ucb1 = UCB1(bandit)\n",
    "thompson = ThompsonSampling(bandit)\n",
    "\n",
    "# Run experiment for each solver\n",
    "\n",
    "for solver in [random, greedy, e_greedy, ucb1, thompson]:\n",
    "    num_trials = 20\n",
    "    num_iterations = 1000\n",
    "    run_solver(solver,num_trials,num_iterations)\n",
    "    action_count = []\n",
    "    for arm in range(bandit.n):\n",
    "        action_count.append(solver.actions.count(arm)/num_trials)\n",
    "    print(\"Actions per arm: \",action_count, \"\\n\") #Print number of times each arm was pulled"
   ]
  },
  {
   "cell_type": "markdown",
   "metadata": {},
   "source": [
    "## In-class task 1: \n",
    "- Modify the bandit instance (add more arms, change $\\theta$s.\n",
    "- Change the target arm for Greedy.\n",
    "- Change $\\epsilon$ for $\\epsilon$-Greedy.\n",
    "- Specify strong prior for Thompson Sampling ( $\\alpha$ and $\\beta$ ).\n",
    "\n",
    "Observe and discuss how the results vary."
   ]
  },
  {
   "cell_type": "markdown",
   "metadata": {},
   "source": [
    "## In-class task 2:\n",
    "- For one trial, plot a comparative graph showing cumulative regrets over time for each solver.\n",
    "- Calculate *cumulative reward* over time for each solver, and construct the plot again.\n",
    "\n",
    "Discuss how they compare."
   ]
  },
  {
   "cell_type": "code",
   "execution_count": 12,
   "metadata": {},
   "outputs": [
    {
     "data": {
      "image/png": "[encoded data removed]",
      "text/plain": [
       "<Figure size 432x288 with 1 Axes>"
      ]
     },
     "metadata": {
      "needs_background": "light"
     },
     "output_type": "display_data"
    }
   ],
   "source": [
    "for solver in [random, greedy, e_greedy, ucb1, thompson]:\n",
    "    plt.plot(solver.regrets, label = solver.name)\n",
    "\n",
    "\n",
    "plt.legend()\n",
    "plt.xlabel('time step')\n",
    "plt.ylabel('cumulative regret')\n",
    "plt.show()"
   ]
  },
  {
   "cell_type": "code",
   "execution_count": null,
   "metadata": {},
   "outputs": [],
   "source": []
  }
 ],
 "metadata": {
  "kernelspec": {
   "display_name": "Python 3",
   "language": "python",
   "name": "python3"
  },
  "language_info": {
   "codemirror_mode": {
    "name": "ipython",
    "version": 3
   },
   "file_extension": ".py",
   "mimetype": "text/x-python",
   "name": "python",
   "nbconvert_exporter": "python",
   "pygments_lexer": "ipython3",
   "version": "3.7.1"
  }
 },
 "nbformat": 4,
 "nbformat_minor": 2
}
