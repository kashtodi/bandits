{
 "cells": [
  {
   "cell_type": "markdown",
   "metadata": {
    "slideshow": {
     "slide_type": "slide"
    }
   },
   "source": [
    "# ELEC-E7851 Computational User Interface Design\n",
    "\n",
    "# Bandits (17.11.2020)\n",
    "### Kashyap Todi (www.kashyaptodi.com)"
   ]
  },
  {
   "cell_type": "code",
   "execution_count": 5,
   "metadata": {
    "slideshow": {
     "slide_type": "skip"
    }
   },
   "outputs": [],
   "source": [
    "import time\n",
    "import random\n",
    "import numpy as np\n",
    "import scipy.stats\n",
    "import matplotlib.pyplot as plt"
   ]
  },
  {
   "cell_type": "markdown",
   "metadata": {
    "slideshow": {
     "slide_type": "slide"
    }
   },
   "source": [
    "## Defining a Bandit\n",
    "\n",
    "We start by defining a Bandit.\n",
    "\n",
    "A bandit has $n$ arms.<br/>\n",
    "Each arm has a reward probability $\\theta$.<br/>\n",
    "When we pull an arm $i$, the bandit returns a reward with corresponding probability $i_\\theta$."
   ]
  },
  {
   "cell_type": "code",
   "execution_count": 6,
   "metadata": {
    "slideshow": {
     "slide_type": "subslide"
    }
   },
   "outputs": [],
   "source": [
    "class Bandit():\n",
    "    def __init__(self, n, thetas):\n",
    "        assert n == len(thetas)\n",
    "        self.n = n # Number of arms\n",
    "        self.thetas = thetas # Reward probabilities\n",
    "        self.best_theta = max(self.thetas) # Reward probability of best arm\n",
    "    \n",
    "    def pull_arm(self, i):\n",
    "        # Function to pull an arm i and return a reward (0 or 1) with probability theta for i\n",
    "        return 1 if np.random.random() < self.thetas[i] else 0\n",
    "        "
   ]
  },
  {
   "cell_type": "markdown",
   "metadata": {
    "slideshow": {
     "slide_type": "subslide"
    }
   },
   "source": [
    "Let's create a Bandit instance with 3 arms"
   ]
  },
  {
   "cell_type": "code",
   "execution_count": 7,
   "metadata": {
    "slideshow": {
     "slide_type": "subslide"
    }
   },
   "outputs": [],
   "source": [
    "bandit = Bandit(3, [0.3,0.4,0.5])"
   ]
  },
  {
   "cell_type": "markdown",
   "metadata": {
    "slideshow": {
     "slide_type": "slide"
    }
   },
   "source": [
    "## Defining a Generic Solver\n",
    "\n",
    "A generic Bandit solver consists of:\n",
    "1. bandit: A Bandit object\n",
    "2. counts: Number of times each arm has been pulled\n",
    "3. actions: A History of actions taken (arms pulled)\n",
    "4. regret: Cumulative regret until current time step\n",
    "5. regrets: A history of cumulative regrets\n",
    "\n",
    "A solver must specify the steps taken during a single time step (`run_one_step`)\n",
    "\n",
    "A solver can be run $num\\ steps$ times, to calculate the cumulative regret and optionally the estimated $\\theta$s.\n",
    "\n"
   ]
  },
  {
   "cell_type": "code",
   "execution_count": 8,
   "metadata": {
    "slideshow": {
     "slide_type": "subslide"
    }
   },
   "outputs": [],
   "source": [
    "class Solver():\n",
    "    def __init__(self, bandit):\n",
    "        np.random.seed(int(time.time()))\n",
    "        # bandit(Bandit): the target bandit to solve\n",
    "        assert isinstance (bandit, Bandit)\n",
    "        self.bandit = bandit\n",
    "        self.counts = [0] * bandit.n # Number of times each arm pulled\n",
    "        self.actions = [] # Action history\n",
    "        self.regret = 0. # Cumulative regret\n",
    "        self.regrets = [0.] # History of regrets\n",
    "    \n",
    "    def update_regret(self, i):\n",
    "        # Update cumulative regret and regret history when arm i is pulled\n",
    "        self.regret += self.bandit.best_theta - self.bandit.thetas[i]\n",
    "        self.regrets.append(self.regret)\n",
    "        \n",
    "    @property\n",
    "    def estimated_thetas(self):\n",
    "        raise NotImplementedError\n",
    "    \n",
    "    # Generic function that performs one step, and returns index of arm pulled    \n",
    "    def run_one_step(self):\n",
    "        raise NotImplementedError\n",
    "        \n",
    "    # Conduct one trial with given number of iterations (steps)       \n",
    "    def run(self, num_steps):\n",
    "        assert self.bandit is not None\n",
    "        for _ in range(num_steps):\n",
    "            i = self.run_one_step()\n",
    "            self.counts[i] += 1\n",
    "            self.actions.append(i)\n",
    "            self.update_regret(i)   \n",
    "            "
   ]
  },
  {
   "cell_type": "markdown",
   "metadata": {
    "slideshow": {
     "slide_type": "slide"
    }
   },
   "source": [
    "## Defining an Experiment\n",
    "Let us now define an experiment to run the solver for n trials with m iterations each trial."
   ]
  },
  {
   "cell_type": "code",
   "execution_count": 9,
   "metadata": {
    "slideshow": {
     "slide_type": "subslide"
    }
   },
   "outputs": [],
   "source": [
    "def run_solver(solver, trials = 20, iterations = 1000):\n",
    "    cumulative_regrets = [] # Cumulative regret for all 20 trials\n",
    "    for trial in range(trials):\n",
    "        solver.regret = 0.\n",
    "        solver.regrets = [0.]\n",
    "        solver.run(iterations)\n",
    "        cumulative_regrets.append(solver.regret)\n",
    "    print(f'Solver: {solver.name}\\nCumulative regret (mean): {np.mean(cumulative_regrets)}; Cumulative regret (std): {np.std(cumulative_regrets)}')\n",
    "    action_count = [solver.actions.count(arm)/trials for arm in range(bandit.n)]\n",
    "    print(f\"Actions per arm: {action_count}\")\n",
    "    "
   ]
  },
  {
   "cell_type": "markdown",
   "metadata": {
    "slideshow": {
     "slide_type": "slide"
    }
   },
   "source": [
    "## Implement Solvers\n",
    "\n",
    "### 1. Explore-Only:\n",
    "First, let's write a random solver, that randomly explores at every iteration:"
   ]
  },
  {
   "cell_type": "code",
   "execution_count": 10,
   "metadata": {
    "slideshow": {
     "slide_type": "subslide"
    }
   },
   "outputs": [],
   "source": [
    "class Random(Solver):\n",
    "    def __init__(self, bandit):\n",
    "        super(Random, self).__init__(bandit)\n",
    "        self.name = \"Random\"\n",
    "        \n",
    "        \n",
    "    def run_one_step(self):\n",
    "        i = np.random.randint(0, self.bandit.n) # Select random arm\n",
    "        reward = self.bandit.pull_arm(i)\n",
    "        return i"
   ]
  },
  {
   "cell_type": "markdown",
   "metadata": {
    "slideshow": {
     "slide_type": "subslide"
    }
   },
   "source": [
    "Let us now try running this Random solver with our 3-armed bandit"
   ]
  },
  {
   "cell_type": "code",
   "execution_count": 11,
   "metadata": {
    "slideshow": {
     "slide_type": "subslide"
    }
   },
   "outputs": [
    {
     "name": "stdout",
     "output_type": "stream",
     "text": [
      "Solver: Random\n",
      "Cumulative regret (mean): 100.3200000000001; Cumulative regret (std): 2.384239920813331\n",
      "Actions per arm: [334.65, 333.9, 331.45]\n"
     ]
    }
   ],
   "source": [
    "random_solver = Random(bandit)\n",
    "run_solver(random_solver)"
   ]
  },
  {
   "cell_type": "markdown",
   "metadata": {
    "slideshow": {
     "slide_type": "slide"
    }
   },
   "source": [
    "### 2. Exploit-Only:\n",
    "Next, let's write a Greedy solver, that exploits a pre-determined arm at every iteration:"
   ]
  },
  {
   "cell_type": "code",
   "execution_count": 12,
   "metadata": {
    "slideshow": {
     "slide_type": "subslide"
    }
   },
   "outputs": [],
   "source": [
    "class Greedy(Solver):\n",
    "    def __init__(self, bandit, arm):\n",
    "        super(Greedy, self).__init__(bandit)\n",
    "        self.name = \"Greedy\"\n",
    "        self.arm = arm\n",
    "    \n",
    "    def run_one_step(self):\n",
    "        reward = self.bandit.pull_arm(self.arm)\n",
    "        return self.arm\n",
    "    "
   ]
  },
  {
   "cell_type": "markdown",
   "metadata": {
    "slideshow": {
     "slide_type": "subslide"
    }
   },
   "source": [
    "Let's try out the Greedy solver next"
   ]
  },
  {
   "cell_type": "code",
   "execution_count": 13,
   "metadata": {
    "slideshow": {
     "slide_type": "subslide"
    }
   },
   "outputs": [
    {
     "name": "stdout",
     "output_type": "stream",
     "text": [
      "Solver: Greedy\n",
      "Cumulative regret (mean): 199.99999999999721; Cumulative regret (std): 2.842170943040401e-14\n",
      "Actions per arm: [1000.0, 0.0, 0.0]\n"
     ]
    }
   ],
   "source": [
    "greedy_solver = Greedy(bandit, random.choice(range(bandit.n)))\n",
    "run_solver(greedy_solver)"
   ]
  },
  {
   "cell_type": "markdown",
   "metadata": {
    "slideshow": {
     "slide_type": "slide"
    }
   },
   "source": [
    " ### 3. $\\epsilon$-Greedy:\n",
    " \n",
    "We can explore random arms with a fixed probability ($\\epsilon$), while exploiting the best found arm otherwise.\n",
    " \n",
    "After each time step, we obtain reward r for pulling arm i.<br/>\n",
    "We update the estimated theta for arm i based on the outcome."
   ]
  },
  {
   "cell_type": "code",
   "execution_count": 14,
   "metadata": {
    "slideshow": {
     "slide_type": "subslide"
    }
   },
   "outputs": [],
   "source": [
    "class EpsilonGreedy(Solver):\n",
    "    def __init__(self, bandit, epsilon, init_theta = 1.0):\n",
    "        super(EpsilonGreedy, self).__init__(bandit)\n",
    "        self.name = \"EpsilonGreedy\"\n",
    "        assert 0 <= epsilon <= 1\n",
    "        self.epsilon = epsilon\n",
    "        self.estimates = [init_theta] * self.bandit.n \n",
    "    \n",
    "    def estimated_thetas(self):\n",
    "        # Get theta estimates for all arms\n",
    "        return self.estimates\n",
    "    \n",
    "    def run_one_step(self):\n",
    "        # First, we need to decide whether to explore or exploit (based on epsilon)\n",
    "        if np.random.random() < self.epsilon:\n",
    "            # Explore by picking random arm when value less than epsilon\n",
    "            arm = random.choice(range(self.bandit.n))\n",
    "        else:\n",
    "            # Exploit by selecting the best arm so far\n",
    "            arm = max(range(self.bandit.n), key = lambda x: self.estimates[x])\n",
    "            \n",
    "        # Now, we pull the arm and get a reward, and then update theta estimate for the arm\n",
    "        reward = self.bandit.pull_arm(arm)\n",
    "        self.estimates[arm] += 1. / (self.counts[arm]+1) * (reward - self.estimates[arm])\n",
    "        return arm\n",
    "        "
   ]
  },
  {
   "cell_type": "markdown",
   "metadata": {
    "slideshow": {
     "slide_type": "subslide"
    }
   },
   "source": [
    "Let's try out the $\\epsilon$-greedy solver"
   ]
  },
  {
   "cell_type": "code",
   "execution_count": 15,
   "metadata": {
    "slideshow": {
     "slide_type": "subslide"
    }
   },
   "outputs": [
    {
     "name": "stdout",
     "output_type": "stream",
     "text": [
      "Solver: EpsilonGreedy\n",
      "Cumulative regret (mean): 10.519999999999992; Cumulative regret (std): 1.607669120186109\n",
      "Actions per arm: [34.25, 36.7, 929.05]\n"
     ]
    }
   ],
   "source": [
    "epsilon_greedy_solver = EpsilonGreedy(bandit, 0.1) # epsilon = 0.1 => explore 10% and exploit 90%\n",
    "run_solver(epsilon_greedy_solver)"
   ]
  },
  {
   "cell_type": "markdown",
   "metadata": {
    "slideshow": {
     "slide_type": "slide"
    }
   },
   "source": [
    " ### 4. UCB1:\n",
    " \n",
    "The Upper Confident Bound solver prefers arms with stronger potential for optimal value.\n",
    "\n",
    "At each step, we pick the best arm $i$ to maximise the upper confidence bound\n",
    "\n",
    "$a_t^{UCB}= argmax_{a\\in A} \\hat{Q_t}(a) + \\hat{U_t}(a)$<br><br>\n",
    "$\\hat{U_t}(a) = \\sqrt{\\dfrac{2 \\log t}{N_t(a)}}$"
   ]
  },
  {
   "cell_type": "code",
   "execution_count": 16,
   "metadata": {
    "slideshow": {
     "slide_type": "subslide"
    }
   },
   "outputs": [],
   "source": [
    "class UCB1(Solver):\n",
    "    def __init__(self, bandit, init_theta = 1.0):\n",
    "        # Initial thetas optimistically set to 1.0\n",
    "        super(UCB1, self).__init__(bandit)\n",
    "        self.t = 0 # Timestep\n",
    "        self.estimates = [init_theta]*self.bandit.n\n",
    "        self.name = \"UCB1\"\n",
    "        \n",
    "    @property\n",
    "    def estimated_thetas(self):\n",
    "        return self.estimates\n",
    "    \n",
    "    def run_one_step(self):\n",
    "        self.t += 1\n",
    "        \n",
    "        #Pick the best arm using UCB, pull and get reward\n",
    "        arm = max(range(self.bandit.n),\n",
    "                  key = lambda x: self.estimated_thetas[x] + np.sqrt(2*np.log(self.t)/(1+self.counts[x])))\n",
    "        reward = self.bandit.pull_arm(arm)\n",
    "        #Update theta estimate for arm\n",
    "        self.estimates[arm] += 1./(self.counts[arm]+1) * (reward - self.estimated_thetas[arm])\n",
    "        \n",
    "        return arm"
   ]
  },
  {
   "cell_type": "markdown",
   "metadata": {
    "slideshow": {
     "slide_type": "subslide"
    }
   },
   "source": [
    "Lets try the UCB1 solver now"
   ]
  },
  {
   "cell_type": "code",
   "execution_count": 17,
   "metadata": {
    "slideshow": {
     "slide_type": "subslide"
    }
   },
   "outputs": [
    {
     "name": "stdout",
     "output_type": "stream",
     "text": [
      "Solver: UCB1\n",
      "Cumulative regret (mean): 8.115000000000006; Cumulative regret (std): 8.958363410802251\n",
      "Actions per arm: [10.6, 59.95, 929.45]\n"
     ]
    }
   ],
   "source": [
    "ucb_solver = UCB1(bandit)\n",
    "run_solver(ucb_solver)"
   ]
  },
  {
   "cell_type": "markdown",
   "metadata": {},
   "source": [
    "### Beta Distribution Demo\n",
    "Manipulate $\\alpha$ and $\\beta$ to see how the probability distribution changes."
   ]
  },
  {
   "cell_type": "code",
   "execution_count": 18,
   "metadata": {},
   "outputs": [
    {
     "data": {
      "text/plain": [
       "[<matplotlib.lines.Line2D at 0x10b8a0400>]"
      ]
     },
     "execution_count": 18,
     "metadata": {},
     "output_type": "execute_result"
    },
    {
     "data": {
      "image/png": "[encoded data removed]",
      "text/plain": [
       "<Figure size 720x504 with 1 Axes>"
      ]
     },
     "metadata": {
      "needs_background": "light"
     },
     "output_type": "display_data"
    }
   ],
   "source": [
    "plt.figure(figsize=(10,7))\n",
    "plt.xlim(0.0, 1)\n",
    "alpha = 20\n",
    "beta = 20\n",
    "x = np.linspace(scipy.stats.beta.ppf(0.00, alpha, beta),scipy.stats.beta.ppf(1, alpha, beta), 100)\n",
    "plt.plot(x, scipy.stats.beta.pdf(x, alpha, beta), 'r-', color='C0')\n",
    "# alpha = 8\n",
    "# beta = 70\n",
    "# x = np.linspace(scipy.stats.beta.ppf(0.00, alpha, beta),scipy.stats.beta.ppf(1, alpha, beta), 100)\n",
    "# plt.plot(x, scipy.stats.beta.pdf(x, alpha, beta), 'r-', color='C1')\n",
    "\n",
    "\n",
    "# alpha = 42\n",
    "# beta = 17\n",
    "# x = np.linspace(scipy.stats.beta.ppf(0.00, alpha, beta),scipy.stats.beta.ppf(1, alpha, beta), 100)\n",
    "# plt.plot(x, scipy.stats.beta.pdf(x, alpha, beta), 'r-', color='C2')\n",
    "\n",
    "\n",
    "\n"
   ]
  },
  {
   "cell_type": "markdown",
   "metadata": {},
   "source": [
    " ### 5. Thompson Sampling:\n",
    " \n",
    "The Thompson Sampling solver implements probability matching.\n",
    "\n",
    "For Bernoulli bandit, Q(a) follows a Beta distribution\n",
    "\n",
    "By default, $\\alpha$ and $\\beta$ are set to 1 (50% reward probability).<br>\n",
    "We can set initial $\\alpha$ and $\\beta$ based on our prior knowledge of reward probability.<br>\n",
    "\n",
    "After pulling an arm i, the $\\alpha$ and $\\beta$ for i is updated."
   ]
  },
  {
   "cell_type": "code",
   "execution_count": 19,
   "metadata": {
    "slideshow": {
     "slide_type": "subslide"
    }
   },
   "outputs": [],
   "source": [
    "class ThomsonSampling(Solver):\n",
    "    def __init__(self, bandit, init_alpha=1, init_beta=1):\n",
    "        \"\"\"\n",
    "        init_alpha (int): initial value of alpha in Beta(alpha, beta).\n",
    "        init_beta (int): initial value of beta in Beta(alpha, beta).\n",
    "        \"\"\"\n",
    "        super(ThomsonSampling, self).__init__(bandit)\n",
    "        self._alphas = [init_alpha]*self.bandit.n\n",
    "        self._betas = [init_beta]*self.bandit.n\n",
    "        self.name = \"Thomson Sampling\"\n",
    "        \n",
    "    @property\n",
    "    def estimated_thetas(self):\n",
    "        return [self._alphas[i]/(self._alphas[i] + self._betas[i]) for i in range(self.bandit.n)]\n",
    "    \n",
    "    def run_one_step(self):\n",
    "        # Get sample for each arm from beta distribution \n",
    "        samples = [np.random.beta(self._alphas[i], self._betas[i]) for i in range(self.bandit.n)]\n",
    "        \n",
    "        # Select best arm and get reward by pulling it\n",
    "        arm = max(range(self.bandit.n), key=lambda x: samples[x]) # Get arm with highest sample value\n",
    "        reward = self.bandit.pull_arm(arm)\n",
    "        \n",
    "        # Update alpha and beta for arm\n",
    "        self._alphas[arm] += reward # Increment alpha by 1 if reward received\n",
    "        self._betas[arm] += (1 - reward) # Increment beta by 1 if no reward received\n",
    "        \n",
    "        return arm"
   ]
  },
  {
   "cell_type": "markdown",
   "metadata": {
    "slideshow": {
     "slide_type": "subslide"
    }
   },
   "source": [
    "Now let's test the Thomson Sampling solver"
   ]
  },
  {
   "cell_type": "code",
   "execution_count": 20,
   "metadata": {
    "slideshow": {
     "slide_type": "subslide"
    }
   },
   "outputs": [
    {
     "name": "stdout",
     "output_type": "stream",
     "text": [
      "Solver: Thomson Sampling\n",
      "Cumulative regret (mean): 2.8350000000000217; Cumulative regret (std): 12.059654845807248\n",
      "Actions per arm: [4.8, 18.75, 976.45]\n"
     ]
    }
   ],
   "source": [
    "thomson_solver = ThomsonSampling(bandit)\n",
    "run_solver(thomson_solver)"
   ]
  },
  {
   "cell_type": "markdown",
   "metadata": {
    "slideshow": {
     "slide_type": "slide"
    }
   },
   "source": [
    "## Compare the solvers"
   ]
  },
  {
   "cell_type": "markdown",
   "metadata": {
    "slideshow": {
     "slide_type": "subslide"
    }
   },
   "source": [
    "We now compare the solvers by running the experiment and printing the mean cumulative regret and standard deviation."
   ]
  },
  {
   "cell_type": "code",
   "execution_count": 58,
   "metadata": {
    "slideshow": {
     "slide_type": "subslide"
    }
   },
   "outputs": [
    {
     "name": "stdout",
     "output_type": "stream",
     "text": [
      "Solver: Random\n",
      "Cumulative regret (mean): 99.39500000000012; Cumulative regret (std): 2.9635240845992734\n",
      "Actions per arm: [328.1, 337.75, 334.15]\n",
      "Solver: Greedy\n",
      "Cumulative regret (mean): 99.99999999999861; Cumulative regret (std): 1.4210854715202004e-14\n",
      "Actions per arm: [0.0, 1000.0, 0.0]\n",
      "Solver: EpsilonGreedy\n",
      "Cumulative regret (mean): 10.364999999999991; Cumulative regret (std): 1.320331397793747\n",
      "Actions per arm: [34.45, 34.75, 930.8]\n",
      "Solver: UCB1\n",
      "Cumulative regret (mean): 8.805000000000003; Cumulative regret (std): 9.736913011832884\n",
      "Actions per arm: [17.8, 52.45, 929.75]\n",
      "Solver: Thomson Sampling\n",
      "Cumulative regret (mean): 3.105000000000004; Cumulative regret (std): 6.438281991339012\n",
      "Actions per arm: [3.15, 24.75, 972.1]\n"
     ]
    },
    {
     "data": {
      "image/png": "[encoded data removed]",
      "text/plain": [
       "<Figure size 432x288 with 1 Axes>"
      ]
     },
     "metadata": {
      "needs_background": "light"
     },
     "output_type": "display_data"
    }
   ],
   "source": [
    "random_solver = Random(bandit)\n",
    "greedy_solver = Greedy(bandit, random.choice(range(bandit.n)))\n",
    "epsilon_greedy_solver = EpsilonGreedy(bandit, 0.1)\n",
    "ucb_solver = UCB1(bandit)\n",
    "thomson_solver = ThomsonSampling(bandit)\n",
    "for solver in [random_solver, greedy_solver, epsilon_greedy_solver, ucb_solver, thomson_solver]:\n",
    "    run_solver(solver)\n",
    "    plt.plot(solver.regrets, label = solver.name)\n",
    "    \n",
    "plt.legend()\n",
    "plt.xlabel('time step')\n",
    "plt.ylabel('cumulative regret')\n",
    "plt.show()"
   ]
  },
  {
   "cell_type": "markdown",
   "metadata": {
    "slideshow": {
     "slide_type": "slide"
    }
   },
   "source": [
    "## In-class task 1: \n",
    "- Modify the bandit instance (add more arms, change $\\theta$s).\n",
    "- Change the target arm for Greedy.\n",
    "- Change $\\epsilon$ for $\\epsilon$-Greedy.\n",
    "- Specify strong prior for Thompson Sampling ( $\\alpha$ and $\\beta$ ).\n",
    "\n",
    "Observe and discuss how the results vary."
   ]
  },
  {
   "cell_type": "markdown",
   "metadata": {
    "slideshow": {
     "slide_type": "subslide"
    }
   },
   "source": [
    "## In-class task 2:\n",
    "- Discuss how you could improve $\\epsilon$-greedy with some small changes"
   ]
  }
 ],
 "metadata": {
  "kernelspec": {
   "display_name": "Python 3",
   "language": "python",
   "name": "python3"
  },
  "language_info": {
   "codemirror_mode": {
    "name": "ipython",
    "version": 3
   },
   "file_extension": ".py",
   "mimetype": "text/x-python",
   "name": "python",
   "nbconvert_exporter": "python",
   "pygments_lexer": "ipython3",
   "version": "3.8.5"
  }
 },
 "nbformat": 4,
 "nbformat_minor": 2
}
